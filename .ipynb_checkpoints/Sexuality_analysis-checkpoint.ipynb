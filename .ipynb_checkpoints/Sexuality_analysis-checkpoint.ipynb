{
 "cells": [
  {
   "cell_type": "code",
   "execution_count": 1,
   "metadata": {},
   "outputs": [],
   "source": [
    "import numpy as np\n",
    "import pandas as pd\n",
    "import seaborn as sns\n",
    "import matplotlib.pyplot as plt\n",
    "import collections\n",
    "import itertools as it\n",
    "import warnings; warnings.simplefilter('ignore')"
   ]
  },
  {
   "cell_type": "code",
   "execution_count": 2,
   "metadata": {},
   "outputs": [],
   "source": [
    "def separation(data):\n",
    "    '''Function for separation of certain data in the dataset.\n",
    "       Function takes in a string and returns a\n",
    "       list of elements of the string'''\n",
    "    if '/' in data:\n",
    "        data = data.split('/')\n",
    "    return data\n",
    "\n",
    "def coma_separation(data):\n",
    "    '''Function for separation of certain data in the dataset.\n",
    "       Function takes in a string and returns a\n",
    "       list of elements of the string'''\n",
    "    data = str(data)\n",
    "    if ',' in data:\n",
    "        data = data.split(', ')\n",
    "    return data"
   ]
  },
  {
   "cell_type": "code",
   "execution_count": 3,
   "metadata": {},
   "outputs": [],
   "source": [
    "data = pd.read_csv('Sexuality_in_video_games_unedited.csv')"
   ]
  },
  {
   "cell_type": "code",
   "execution_count": 4,
   "metadata": {},
   "outputs": [],
   "source": [
    "'''Renaming the columns of the dataset, making it easier to refer to them later on'''\n",
    "data.columns = ['date', 'Gender', 'Sexual_orientation', \n",
    "                'Age_group','Country','Regularity_of_gaming',\n",
    "                'Session_length','Genre', 'Favourite_game','Other_interests',\n",
    "               'View_on_sexuality','View_on_sexualisation','Design_preferences',\n",
    "               'Design_issues','View_on_sexual_sub_context','bruh','LGBT_representation', 'extras']"
   ]
  },
  {
   "cell_type": "code",
   "execution_count": 56,
   "metadata": {
    "scrolled": true
   },
   "outputs": [
    {
     "data": {
      "text/plain": [
       "USA                          112\n",
       "Other                         36\n",
       "UK                            20\n",
       "Germany                       15\n",
       "Canada                        13\n",
       "Australia and New Zealand      9\n",
       "France                         8\n",
       "Brazil                         8\n",
       "The Netherlands                6\n",
       "Poland                         6\n",
       "Russia                         6\n",
       "Mexico                         4\n",
       "Latvia                         4\n",
       "Name: Country, dtype: int64"
      ]
     },
     "execution_count": 56,
     "metadata": {},
     "output_type": "execute_result"
    }
   ],
   "source": [
    "'''The function below takes in an object from a dataset, country name.\n",
    "It compares it with 9 lists, returning an edited name of the country.\n",
    "If the country name is in none of those lists, it compares it with\n",
    "another list, returning the name of the country if it is in that list.\n",
    "Otherwise, it replaces the country name with the word \"Other\"\n",
    "and returns it.'''\n",
    "def country_sort(Country):\n",
    "    Country = str(Country)\n",
    "    if Country.lower() in ['usa', 'united states ', 'murica', \n",
    "                           'america', 'usa ', 'us', 'united states',\n",
    "                           'united states of america', 'u.s.']:\n",
    "        Country = 'USA'    \n",
    "    elif Country.lower() in ['uk', 'uk ', 'united kingdom',\n",
    "                           'england', 'scotland', 'united kingdom ',\n",
    "                           'england ']:\n",
    "        Country = 'UK'\n",
    "    elif Country.lower() in ['netherlands', 'the netherlands', 'netherlands ', \n",
    "                           'the netherlands ']:\n",
    "        Country = 'The Netherlands'\n",
    "    elif Country.lower() in ['canada', 'canada ']:\n",
    "        Country = 'Canada'\n",
    "    elif Country.lower() in ['france', 'france ']:\n",
    "        Country = 'France'\n",
    "    elif Country.lower() in ['russia', 'russian federation']:\n",
    "        Country = 'Russia'\n",
    "    elif Country.lower() in ['australia', 'new zealand', 'new zeland']:\n",
    "        Country = 'Australia and New Zealand'\n",
    "    elif Country.lower() in ['méxico', 'mexico']:\n",
    "        Country = 'Mexico'\n",
    "    elif Country.lower() in ['germany', 'germany ']:\n",
    "        Country = 'Germany'\n",
    "    elif Country in ['USA', 'UK', 'Germany', 'Canada',\n",
    "                   'Australia and New Zealand', 'France',\n",
    "                   'Brazil', 'Russia', 'Poland',\n",
    "                   'The Netherlands', 'Latvia', 'Mexico']:\n",
    "        next\n",
    "    else:\n",
    "        Country ='Other'\n",
    "    return Country \n",
    "\n",
    "'''applying the functions'''\n",
    "data.Country = data.Country.apply(country_sort)\n",
    "data.Country.value_counts() #checking if the function work"
   ]
  },
  {
   "cell_type": "code",
   "execution_count": 6,
   "metadata": {},
   "outputs": [],
   "source": [
    "'''This block replaces wordy answers with numbers, scaling from 1 to 7, with 1 being\n",
    "most negative view on the subject and 7 being the most positive view on the subject.\n",
    "the last line replaces data dype frpm \"object\" to \"int64\"'''\n",
    "data['View_on_sexuality'].loc[data.View_on_sexuality == 'Neutral'] = 4\n",
    "data['View_on_sexuality'].loc[data.View_on_sexuality == 'Mostly positive'] = 6\n",
    "data['View_on_sexuality'].loc[data.View_on_sexuality == 'Sometimes positive'] = 5\n",
    "data['View_on_sexuality'].loc[data.View_on_sexuality == 'Absolutely positive'] = 7\n",
    "data['View_on_sexuality'].loc[data.View_on_sexuality == 'Mostly negative'] = 2\n",
    "data['View_on_sexuality'].loc[data.View_on_sexuality == 'Absolutely negative'] = 1\n",
    "data['View_on_sexuality'].loc[data.View_on_sexuality == 'Sometimes negative'] = 3\n",
    "data['View_on_sexuality'] = pd.to_numeric(data['View_on_sexuality'])"
   ]
  },
  {
   "cell_type": "code",
   "execution_count": 7,
   "metadata": {},
   "outputs": [],
   "source": [
    "'''This block collects different unsorted Genre answers into prepeared categories'''\n",
    "data['Genre'][data.Genre.str.contains(\"Don't\")] = 'None'\n",
    "data['Genre'][data.Genre.str.contains(\"I like\")] = 'Action/Adventure/Singleplayer RPGs/Multiplayer RPGs/Strategy'\n",
    "data['Genre'][data.Genre.str.contains(\"Sim\")] = 'Simulators'\n",
    "data['Genre'][data.Genre.str.contains(\"Rhythm\")] = 'Action'\n",
    "data['Genre'][data.Genre.str.contains(\"Sand\")] = 'Simulators'\n",
    "data['Genre'][data.Genre.str.contains('F')] = 'Action'\n",
    "data['Genre'][data.Genre.str.contains('strategy')] = 'Strategy'\n",
    "data['Genre'][data.Genre.str.contains('all of')] = 'Action/Adventure/Singleplayer RPGs/Multiplayer RPGs/Simulators/Strategy'\n",
    "data['Genre'][data.Genre.str.contains('vague')] = 'None'\n",
    "data['Genre'][data.Genre.str.contains('Survival')] = 'Simulators'\n",
    "data['Genre'][data.Genre.str.contains('every')] = 'Action/Adventure/Singleplayer RPGs/Multiplayer RPGs/Simulators/Strategy'\n",
    "data['Genre'][data.Genre.str.contains('Prefer')] = 'None'\n",
    "data['Genre'][data.Genre.str.contains('band')] = 'None'\n",
    "data['Genre'][data.Genre.str.contains('Co')] = 'None'"
   ]
  },
  {
   "cell_type": "code",
   "execution_count": 8,
   "metadata": {},
   "outputs": [],
   "source": [
    "'''The string of genres is made into a list and separated for future statistical work'''\n",
    "data['Genre'] = data['Genre'].apply(separation)\n",
    "genres_exploded = data.explode('Genre')"
   ]
  },
  {
   "cell_type": "code",
   "execution_count": 9,
   "metadata": {},
   "outputs": [],
   "source": [
    "'''This block sorts out sexual orientation answers, combining them into prepared categories'''\n",
    "data['Sexual_orientation'][data.Sexual_orientation.str.contains('Asex')] = 'Asexual'\n",
    "\n",
    "def sexual_sort(Sexual_orientation):\n",
    "    '''This function takes in the string, and if it\n",
    "    doesn\\'t match with any of the categories, it replaces\n",
    "    string with \"Other\"'''\n",
    "    if Sexual_orientation in ['Heterosexual','Bisexual','Homosexual','Asexual']:\n",
    "        return Sexual_orientation\n",
    "    else:\n",
    "        Sexual_orientation = 'Other'\n",
    "        return Sexual_orientation\n",
    "    \n",
    "\n",
    "data.Sexual_orientation = data.Sexual_orientation.apply(sexual_sort)"
   ]
  },
  {
   "cell_type": "code",
   "execution_count": 10,
   "metadata": {},
   "outputs": [],
   "source": [
    "'''This block sorts out gender questions. The groups combined into \"Others\"\n",
    "were too small, so they were combined into one group'''\n",
    "def gender_sort(Gender):\n",
    "    '''This function takes in the string, and if it\n",
    "    doesn\\'t match with any of the categories, it replaces\n",
    "    string with \"Other\"'''\n",
    "    if Gender in ['Male','Female']:\n",
    "        return Gender\n",
    "    else:\n",
    "        Gender = 'Other'\n",
    "        return Gender\n",
    "\n",
    "data.Gender = data.Gender.apply(gender_sort)"
   ]
  },
  {
   "cell_type": "code",
   "execution_count": 11,
   "metadata": {},
   "outputs": [],
   "source": [
    "'''This block separates Other interests, yet this data was not used for anything'''\n",
    "data['Other_interests'] = data['Other_interests'].apply(coma_separation)\n",
    "interests_exploded = data.explode('Other_interests')"
   ]
  },
  {
   "cell_type": "markdown",
   "metadata": {},
   "source": [
    "# Grouping data by Gender"
   ]
  },
  {
   "cell_type": "code",
   "execution_count": 12,
   "metadata": {},
   "outputs": [
    {
     "data": {
      "text/html": [
       "<div>\n",
       "<style scoped>\n",
       "    .dataframe tbody tr th:only-of-type {\n",
       "        vertical-align: middle;\n",
       "    }\n",
       "\n",
       "    .dataframe tbody tr th {\n",
       "        vertical-align: top;\n",
       "    }\n",
       "\n",
       "    .dataframe thead tr th {\n",
       "        text-align: left;\n",
       "    }\n",
       "\n",
       "    .dataframe thead tr:last-of-type th {\n",
       "        text-align: right;\n",
       "    }\n",
       "</style>\n",
       "<table border=\"1\" class=\"dataframe\">\n",
       "  <thead>\n",
       "    <tr>\n",
       "      <th></th>\n",
       "      <th colspan=\"5\" halign=\"left\">View_on_sexuality</th>\n",
       "      <th colspan=\"5\" halign=\"left\">View_on_sexualisation</th>\n",
       "      <th colspan=\"5\" halign=\"left\">View_on_sexual_sub_context</th>\n",
       "    </tr>\n",
       "    <tr>\n",
       "      <th></th>\n",
       "      <th>mean</th>\n",
       "      <th>median</th>\n",
       "      <th>std</th>\n",
       "      <th>max</th>\n",
       "      <th>min</th>\n",
       "      <th>mean</th>\n",
       "      <th>median</th>\n",
       "      <th>std</th>\n",
       "      <th>max</th>\n",
       "      <th>min</th>\n",
       "      <th>mean</th>\n",
       "      <th>median</th>\n",
       "      <th>std</th>\n",
       "      <th>max</th>\n",
       "      <th>min</th>\n",
       "    </tr>\n",
       "    <tr>\n",
       "      <th>Gender</th>\n",
       "      <th></th>\n",
       "      <th></th>\n",
       "      <th></th>\n",
       "      <th></th>\n",
       "      <th></th>\n",
       "      <th></th>\n",
       "      <th></th>\n",
       "      <th></th>\n",
       "      <th></th>\n",
       "      <th></th>\n",
       "      <th></th>\n",
       "      <th></th>\n",
       "      <th></th>\n",
       "      <th></th>\n",
       "      <th></th>\n",
       "    </tr>\n",
       "  </thead>\n",
       "  <tbody>\n",
       "    <tr>\n",
       "      <th>Female</th>\n",
       "      <td>4.225000</td>\n",
       "      <td>4</td>\n",
       "      <td>1.349026</td>\n",
       "      <td>7</td>\n",
       "      <td>2</td>\n",
       "      <td>3.000000</td>\n",
       "      <td>3</td>\n",
       "      <td>1.358732</td>\n",
       "      <td>7</td>\n",
       "      <td>1</td>\n",
       "      <td>4.450000</td>\n",
       "      <td>5</td>\n",
       "      <td>1.131144</td>\n",
       "      <td>7</td>\n",
       "      <td>2</td>\n",
       "    </tr>\n",
       "    <tr>\n",
       "      <th>Male</th>\n",
       "      <td>4.905263</td>\n",
       "      <td>5</td>\n",
       "      <td>1.329946</td>\n",
       "      <td>7</td>\n",
       "      <td>1</td>\n",
       "      <td>3.868421</td>\n",
       "      <td>4</td>\n",
       "      <td>1.439633</td>\n",
       "      <td>7</td>\n",
       "      <td>1</td>\n",
       "      <td>4.847368</td>\n",
       "      <td>5</td>\n",
       "      <td>1.169664</td>\n",
       "      <td>7</td>\n",
       "      <td>1</td>\n",
       "    </tr>\n",
       "    <tr>\n",
       "      <th>Other</th>\n",
       "      <td>4.000000</td>\n",
       "      <td>4</td>\n",
       "      <td>1.414214</td>\n",
       "      <td>7</td>\n",
       "      <td>2</td>\n",
       "      <td>3.117647</td>\n",
       "      <td>3</td>\n",
       "      <td>1.576482</td>\n",
       "      <td>7</td>\n",
       "      <td>1</td>\n",
       "      <td>4.117647</td>\n",
       "      <td>4</td>\n",
       "      <td>1.363926</td>\n",
       "      <td>7</td>\n",
       "      <td>1</td>\n",
       "    </tr>\n",
       "  </tbody>\n",
       "</table>\n",
       "</div>"
      ],
      "text/plain": [
       "       View_on_sexuality                          View_on_sexualisation  \\\n",
       "                    mean median       std max min                  mean   \n",
       "Gender                                                                    \n",
       "Female          4.225000      4  1.349026   7   2              3.000000   \n",
       "Male            4.905263      5  1.329946   7   1              3.868421   \n",
       "Other           4.000000      4  1.414214   7   2              3.117647   \n",
       "\n",
       "                                View_on_sexual_sub_context                   \\\n",
       "       median       std max min                       mean median       std   \n",
       "Gender                                                                        \n",
       "Female      3  1.358732   7   1                   4.450000      5  1.131144   \n",
       "Male        4  1.439633   7   1                   4.847368      5  1.169664   \n",
       "Other       3  1.576482   7   1                   4.117647      4  1.363926   \n",
       "\n",
       "                \n",
       "       max min  \n",
       "Gender          \n",
       "Female   7   2  \n",
       "Male     7   1  \n",
       "Other    7   1  "
      ]
     },
     "execution_count": 12,
     "metadata": {},
     "output_type": "execute_result"
    }
   ],
   "source": [
    "'''Groups the data by Gender, showing mean, median,\n",
    "standard deviation, maximal and minimal values'''\n",
    "data.groupby('Gender')[\n",
    "    'View_on_sexuality', 'View_on_sexualisation', 'View_on_sexual_sub_context'\n",
    "].agg([\n",
    "    'mean','median','std','max','min'\n",
    "])"
   ]
  },
  {
   "cell_type": "code",
   "execution_count": 13,
   "metadata": {},
   "outputs": [
    {
     "data": {
      "text/plain": [
       "\"Graphs below represent the data, shown in the table above. \\nFirst two graphs create a pivot table to show mean and median value of people's views on\\nsexuality, sexual themes or sexualisation in games depnding on their gender, and display this\\ndata as a bar graph.\\nThe latter three graphs show boxplot of the same things.\""
      ]
     },
     "execution_count": 13,
     "metadata": {},
     "output_type": "execute_result"
    }
   ],
   "source": [
    "'''Graphs below represent the data, shown in the table above. \n",
    "First two graphs create a pivot table to show mean and median value of people\\'s views on\n",
    "sexuality, sexual themes or sexualisation in games depnding on their gender, and display this\n",
    "data as a bar graph.\n",
    "The latter three graphs show boxplot of the same things.'''"
   ]
  },
  {
   "cell_type": "code",
   "execution_count": 14,
   "metadata": {},
   "outputs": [
    {
     "data": {
      "text/plain": [
       "<matplotlib.legend.Legend at 0xb216880>"
      ]
     },
     "execution_count": 14,
     "metadata": {},
     "output_type": "execute_result"
    },
    {
     "data": {
      "image/png": "[encoded data removed]",
      "text/plain": [
       "<Figure size 432x288 with 1 Axes>"
      ]
     },
     "metadata": {
      "needs_background": "light"
     },
     "output_type": "display_data"
    }
   ],
   "source": [
    "data.pivot_table(\n",
    "    values = [\n",
    "        'View_on_sexuality', 'View_on_sexualisation', 'View_on_sexual_sub_context'\n",
    "    ],\n",
    "    index = 'Gender',\n",
    "    aggfunc = 'mean'\n",
    ").plot(kind = 'bar', grid = True)\n",
    "\n",
    "#moves the legend from the way of the graph and edits the legend text\n",
    "plt.legend(\n",
    "    ['View on sexual sub-context','View on sexualisation','View on sexuality'],\n",
    "    loc = 'upper right',\n",
    "    bbox_to_anchor = (1.015,1.25))"
   ]
  },
  {
   "cell_type": "code",
   "execution_count": 15,
   "metadata": {},
   "outputs": [
    {
     "data": {
      "text/plain": [
       "<matplotlib.legend.Legend at 0xba72bb0>"
      ]
     },
     "execution_count": 15,
     "metadata": {},
     "output_type": "execute_result"
    },
    {
     "data": {
      "image/png": "[encoded data removed]",
      "text/plain": [
       "<Figure size 432x288 with 1 Axes>"
      ]
     },
     "metadata": {
      "needs_background": "light"
     },
     "output_type": "display_data"
    }
   ],
   "source": [
    "data.pivot_table(\n",
    "    values = [\n",
    "        'View_on_sexuality', 'View_on_sexualisation', 'View_on_sexual_sub_context'],\n",
    "    index = 'Gender',\n",
    "    aggfunc = 'median').plot(kind = 'bar', grid = True)\n",
    "\n",
    "#moves the legend from the way of the graph and edits the legend text\n",
    "plt.legend(\n",
    "    ['View on sexual sub-context','View on sexualisation','View on sexuality'],\n",
    "    loc = 'upper right',\n",
    "    bbox_to_anchor = (1.015,1.25))"
   ]
  },
  {
   "cell_type": "code",
   "execution_count": 16,
   "metadata": {},
   "outputs": [
    {
     "data": {
      "text/plain": [
       "<matplotlib.axes._subplots.AxesSubplot at 0xbadaeb0>"
      ]
     },
     "execution_count": 16,
     "metadata": {},
     "output_type": "execute_result"
    },
    {
     "data": {
      "image/png": "[encoded data removed]",
      "text/plain": [
       "<Figure size 432x288 with 1 Axes>"
      ]
     },
     "metadata": {},
     "output_type": "display_data"
    }
   ],
   "source": [
    "sns.set()\n",
    "sns.boxplot(x = 'Gender',\n",
    "            y = 'View_on_sexuality',\n",
    "            data = data)"
   ]
  },
  {
   "cell_type": "code",
   "execution_count": 17,
   "metadata": {},
   "outputs": [
    {
     "data": {
      "text/plain": [
       "<matplotlib.axes._subplots.AxesSubplot at 0xbab9070>"
      ]
     },
     "execution_count": 17,
     "metadata": {},
     "output_type": "execute_result"
    },
    {
     "data": {
      "image/png": "[encoded data removed]",
      "text/plain": [
       "<Figure size 432x288 with 1 Axes>"
      ]
     },
     "metadata": {},
     "output_type": "display_data"
    }
   ],
   "source": [
    "sns.set()\n",
    "sns.boxplot(x = 'Gender',\n",
    "            y = 'View_on_sexualisation',\n",
    "            data = data)"
   ]
  },
  {
   "cell_type": "code",
   "execution_count": 18,
   "metadata": {},
   "outputs": [
    {
     "data": {
      "text/plain": [
       "<matplotlib.axes._subplots.AxesSubplot at 0xbc0a160>"
      ]
     },
     "execution_count": 18,
     "metadata": {},
     "output_type": "execute_result"
    },
    {
     "data": {
      "image/png": "[encoded data removed]",
      "text/plain": [
       "<Figure size 432x288 with 1 Axes>"
      ]
     },
     "metadata": {},
     "output_type": "display_data"
    }
   ],
   "source": [
    "sns.set()\n",
    "sns.boxplot(x = 'Gender',\n",
    "            y = 'View_on_sexual_sub_context',\n",
    "            data = data)"
   ]
  },
  {
   "cell_type": "markdown",
   "metadata": {},
   "source": [
    "# Grouping data by Age Group"
   ]
  },
  {
   "cell_type": "code",
   "execution_count": 19,
   "metadata": {},
   "outputs": [
    {
     "data": {
      "text/html": [
       "<div>\n",
       "<style scoped>\n",
       "    .dataframe tbody tr th:only-of-type {\n",
       "        vertical-align: middle;\n",
       "    }\n",
       "\n",
       "    .dataframe tbody tr th {\n",
       "        vertical-align: top;\n",
       "    }\n",
       "\n",
       "    .dataframe thead tr th {\n",
       "        text-align: left;\n",
       "    }\n",
       "\n",
       "    .dataframe thead tr:last-of-type th {\n",
       "        text-align: right;\n",
       "    }\n",
       "</style>\n",
       "<table border=\"1\" class=\"dataframe\">\n",
       "  <thead>\n",
       "    <tr>\n",
       "      <th></th>\n",
       "      <th colspan=\"5\" halign=\"left\">View_on_sexuality</th>\n",
       "      <th colspan=\"5\" halign=\"left\">View_on_sexualisation</th>\n",
       "      <th colspan=\"5\" halign=\"left\">View_on_sexual_sub_context</th>\n",
       "    </tr>\n",
       "    <tr>\n",
       "      <th></th>\n",
       "      <th>mean</th>\n",
       "      <th>median</th>\n",
       "      <th>std</th>\n",
       "      <th>max</th>\n",
       "      <th>min</th>\n",
       "      <th>mean</th>\n",
       "      <th>median</th>\n",
       "      <th>std</th>\n",
       "      <th>max</th>\n",
       "      <th>min</th>\n",
       "      <th>mean</th>\n",
       "      <th>median</th>\n",
       "      <th>std</th>\n",
       "      <th>max</th>\n",
       "      <th>min</th>\n",
       "    </tr>\n",
       "    <tr>\n",
       "      <th>Age_group</th>\n",
       "      <th></th>\n",
       "      <th></th>\n",
       "      <th></th>\n",
       "      <th></th>\n",
       "      <th></th>\n",
       "      <th></th>\n",
       "      <th></th>\n",
       "      <th></th>\n",
       "      <th></th>\n",
       "      <th></th>\n",
       "      <th></th>\n",
       "      <th></th>\n",
       "      <th></th>\n",
       "      <th></th>\n",
       "      <th></th>\n",
       "    </tr>\n",
       "  </thead>\n",
       "  <tbody>\n",
       "    <tr>\n",
       "      <th>16-20</th>\n",
       "      <td>4.518519</td>\n",
       "      <td>4.0</td>\n",
       "      <td>1.484176</td>\n",
       "      <td>7</td>\n",
       "      <td>1</td>\n",
       "      <td>3.419753</td>\n",
       "      <td>3.0</td>\n",
       "      <td>1.413013</td>\n",
       "      <td>7</td>\n",
       "      <td>1</td>\n",
       "      <td>4.469136</td>\n",
       "      <td>4</td>\n",
       "      <td>1.162824</td>\n",
       "      <td>7</td>\n",
       "      <td>2</td>\n",
       "    </tr>\n",
       "    <tr>\n",
       "      <th>21-26</th>\n",
       "      <td>4.914894</td>\n",
       "      <td>5.0</td>\n",
       "      <td>1.283975</td>\n",
       "      <td>7</td>\n",
       "      <td>2</td>\n",
       "      <td>3.925532</td>\n",
       "      <td>4.0</td>\n",
       "      <td>1.468225</td>\n",
       "      <td>7</td>\n",
       "      <td>1</td>\n",
       "      <td>4.882979</td>\n",
       "      <td>5</td>\n",
       "      <td>1.162648</td>\n",
       "      <td>7</td>\n",
       "      <td>2</td>\n",
       "    </tr>\n",
       "    <tr>\n",
       "      <th>27-35</th>\n",
       "      <td>4.695652</td>\n",
       "      <td>4.5</td>\n",
       "      <td>1.443292</td>\n",
       "      <td>7</td>\n",
       "      <td>1</td>\n",
       "      <td>3.630435</td>\n",
       "      <td>4.0</td>\n",
       "      <td>1.525468</td>\n",
       "      <td>7</td>\n",
       "      <td>1</td>\n",
       "      <td>4.869565</td>\n",
       "      <td>5</td>\n",
       "      <td>1.343440</td>\n",
       "      <td>7</td>\n",
       "      <td>1</td>\n",
       "    </tr>\n",
       "    <tr>\n",
       "      <th>More than 35</th>\n",
       "      <td>5.142857</td>\n",
       "      <td>5.5</td>\n",
       "      <td>1.167321</td>\n",
       "      <td>7</td>\n",
       "      <td>3</td>\n",
       "      <td>3.928571</td>\n",
       "      <td>3.5</td>\n",
       "      <td>1.774360</td>\n",
       "      <td>7</td>\n",
       "      <td>2</td>\n",
       "      <td>4.928571</td>\n",
       "      <td>5</td>\n",
       "      <td>1.206666</td>\n",
       "      <td>7</td>\n",
       "      <td>3</td>\n",
       "    </tr>\n",
       "    <tr>\n",
       "      <th>Prefer not to answer</th>\n",
       "      <td>5.333333</td>\n",
       "      <td>6.0</td>\n",
       "      <td>1.154701</td>\n",
       "      <td>6</td>\n",
       "      <td>4</td>\n",
       "      <td>4.333333</td>\n",
       "      <td>4.0</td>\n",
       "      <td>1.527525</td>\n",
       "      <td>6</td>\n",
       "      <td>3</td>\n",
       "      <td>4.666667</td>\n",
       "      <td>4</td>\n",
       "      <td>1.154701</td>\n",
       "      <td>6</td>\n",
       "      <td>4</td>\n",
       "    </tr>\n",
       "    <tr>\n",
       "      <th>Younger than 16</th>\n",
       "      <td>4.111111</td>\n",
       "      <td>4.0</td>\n",
       "      <td>0.781736</td>\n",
       "      <td>6</td>\n",
       "      <td>3</td>\n",
       "      <td>3.000000</td>\n",
       "      <td>3.0</td>\n",
       "      <td>0.866025</td>\n",
       "      <td>4</td>\n",
       "      <td>2</td>\n",
       "      <td>4.555556</td>\n",
       "      <td>4</td>\n",
       "      <td>0.726483</td>\n",
       "      <td>6</td>\n",
       "      <td>4</td>\n",
       "    </tr>\n",
       "  </tbody>\n",
       "</table>\n",
       "</div>"
      ],
      "text/plain": [
       "                     View_on_sexuality                           \\\n",
       "                                  mean median       std max min   \n",
       "Age_group                                                         \n",
       "16-20                         4.518519    4.0  1.484176   7   1   \n",
       "21-26                         4.914894    5.0  1.283975   7   2   \n",
       "27-35                         4.695652    4.5  1.443292   7   1   \n",
       "More than 35                  5.142857    5.5  1.167321   7   3   \n",
       "Prefer not to answer          5.333333    6.0  1.154701   6   4   \n",
       "Younger than 16               4.111111    4.0  0.781736   6   3   \n",
       "\n",
       "                     View_on_sexualisation                           \\\n",
       "                                      mean median       std max min   \n",
       "Age_group                                                             \n",
       "16-20                             3.419753    3.0  1.413013   7   1   \n",
       "21-26                             3.925532    4.0  1.468225   7   1   \n",
       "27-35                             3.630435    4.0  1.525468   7   1   \n",
       "More than 35                      3.928571    3.5  1.774360   7   2   \n",
       "Prefer not to answer              4.333333    4.0  1.527525   6   3   \n",
       "Younger than 16                   3.000000    3.0  0.866025   4   2   \n",
       "\n",
       "                     View_on_sexual_sub_context                           \n",
       "                                           mean median       std max min  \n",
       "Age_group                                                                 \n",
       "16-20                                  4.469136      4  1.162824   7   2  \n",
       "21-26                                  4.882979      5  1.162648   7   2  \n",
       "27-35                                  4.869565      5  1.343440   7   1  \n",
       "More than 35                           4.928571      5  1.206666   7   3  \n",
       "Prefer not to answer                   4.666667      4  1.154701   6   4  \n",
       "Younger than 16                        4.555556      4  0.726483   6   4  "
      ]
     },
     "execution_count": 19,
     "metadata": {},
     "output_type": "execute_result"
    }
   ],
   "source": [
    "'''Groups the data by arbitrary Age groups used in a survey,\n",
    " showing mean, median, standard deviation,\n",
    " maximal and minimal values'''\n",
    "data.groupby('Age_group')[\n",
    "    'View_on_sexuality', 'View_on_sexualisation',\n",
    "    'View_on_sexual_sub_context'\n",
    "].agg([\n",
    "    'mean','median','std','max','min'\n",
    "])"
   ]
  },
  {
   "cell_type": "code",
   "execution_count": 20,
   "metadata": {},
   "outputs": [
    {
     "data": {
      "text/plain": [
       "\"Graphs below represent the data, shown in the table above. \\nFirst two graphs create a pivot table to show mean and median value of people's views on\\nsexuality, sexual themes or sexualisation in games depnding on their Age groups, and display this\\ndata as a bar graph.\\nThe latter three graphs show boxplot of the same things.\""
      ]
     },
     "execution_count": 20,
     "metadata": {},
     "output_type": "execute_result"
    }
   ],
   "source": [
    "'''Graphs below represent the data, shown in the table above. \n",
    "First two graphs create a pivot table to show mean and median value of people\\'s views on\n",
    "sexuality, sexual themes or sexualisation in games depnding on their Age groups, and display this\n",
    "data as a bar graph.\n",
    "The latter three graphs show boxplot of the same things.'''"
   ]
  },
  {
   "cell_type": "code",
   "execution_count": 21,
   "metadata": {},
   "outputs": [
    {
     "data": {
      "text/plain": [
       "<matplotlib.legend.Legend at 0xbc85d30>"
      ]
     },
     "execution_count": 21,
     "metadata": {},
     "output_type": "execute_result"
    },
    {
     "data": {
      "image/png": "[encoded data removed]",
      "text/plain": [
       "<Figure size 432x288 with 1 Axes>"
      ]
     },
     "metadata": {},
     "output_type": "display_data"
    }
   ],
   "source": [
    "data.pivot_table(\n",
    "    values = [\n",
    "        'View_on_sexuality', 'View_on_sexualisation', 'View_on_sexual_sub_context'],\n",
    "    index = 'Age_group',\n",
    "    aggfunc = 'mean'\n",
    ").plot(kind = 'bar',grid = True)\n",
    "plt.legend(\n",
    "    ['View on sexual sub-context','View on sexualisation','View on sexuality'],\n",
    "    loc = 'upper right',\n",
    "    bbox_to_anchor = (1.015,1.25))"
   ]
  },
  {
   "cell_type": "code",
   "execution_count": 22,
   "metadata": {},
   "outputs": [
    {
     "data": {
      "text/plain": [
       "<matplotlib.legend.Legend at 0xbc79f10>"
      ]
     },
     "execution_count": 22,
     "metadata": {},
     "output_type": "execute_result"
    },
    {
     "data": {
      "image/png": "[encoded data removed]",
      "text/plain": [
       "<Figure size 432x288 with 1 Axes>"
      ]
     },
     "metadata": {},
     "output_type": "display_data"
    }
   ],
   "source": [
    "data.pivot_table(\n",
    "    values =\n",
    "    ['View_on_sexuality', 'View_on_sexualisation', 'View_on_sexual_sub_context'],\n",
    "    index = 'Age_group',\n",
    "    aggfunc = 'median'\n",
    ").plot(kind = 'bar', grid = True)\n",
    "plt.legend(\n",
    "    ['View on sexual sub-context','View on sexualisation','View on sexuality'],\n",
    "    loc = 'upper right',\n",
    "    bbox_to_anchor = (1.015,1.25))"
   ]
  },
  {
   "cell_type": "code",
   "execution_count": 23,
   "metadata": {},
   "outputs": [
    {
     "data": {
      "text/plain": [
       "<matplotlib.axes._subplots.AxesSubplot at 0xbb85ca0>"
      ]
     },
     "execution_count": 23,
     "metadata": {},
     "output_type": "execute_result"
    },
    {
     "data": {
      "image/png": "[encoded data removed]",
      "text/plain": [
       "<Figure size 432x288 with 1 Axes>"
      ]
     },
     "metadata": {},
     "output_type": "display_data"
    }
   ],
   "source": [
    "sns.set()\n",
    "sns.set_context('paper', font_scale = 0.7)\n",
    "sns.boxplot(x = 'Age_group',\n",
    "            y = 'View_on_sexuality',\n",
    "            data = data)"
   ]
  },
  {
   "cell_type": "code",
   "execution_count": 24,
   "metadata": {},
   "outputs": [
    {
     "data": {
      "text/plain": [
       "<matplotlib.axes._subplots.AxesSubplot at 0xbe5e760>"
      ]
     },
     "execution_count": 24,
     "metadata": {},
     "output_type": "execute_result"
    },
    {
     "data": {
      "image/png": "[encoded data removed]",
      "text/plain": [
       "<Figure size 432x288 with 1 Axes>"
      ]
     },
     "metadata": {},
     "output_type": "display_data"
    }
   ],
   "source": [
    "sns.set()\n",
    "sns.set_context('paper', font_scale = 0.7)\n",
    "#context must be in paper, notebook, talk, poster\n",
    "sns.boxplot(x = 'Age_group',\n",
    "            y = 'View_on_sexualisation',\n",
    "            data = data)"
   ]
  },
  {
   "cell_type": "code",
   "execution_count": 25,
   "metadata": {},
   "outputs": [
    {
     "data": {
      "text/plain": [
       "<matplotlib.axes._subplots.AxesSubplot at 0xbf10b20>"
      ]
     },
     "execution_count": 25,
     "metadata": {},
     "output_type": "execute_result"
    },
    {
     "data": {
      "image/png": "[encoded data removed]",
      "text/plain": [
       "<Figure size 432x288 with 1 Axes>"
      ]
     },
     "metadata": {},
     "output_type": "display_data"
    }
   ],
   "source": [
    "sns.set()\n",
    "sns.set_context('paper', font_scale = 0.7)\n",
    "sns.boxplot(x = 'Age_group',\n",
    "            y = 'View_on_sexual_sub_context',\n",
    "            data = data)"
   ]
  },
  {
   "cell_type": "markdown",
   "metadata": {},
   "source": [
    "# Grouping data by Country"
   ]
  },
  {
   "cell_type": "code",
   "execution_count": 26,
   "metadata": {},
   "outputs": [
    {
     "data": {
      "text/html": [
       "<div>\n",
       "<style scoped>\n",
       "    .dataframe tbody tr th:only-of-type {\n",
       "        vertical-align: middle;\n",
       "    }\n",
       "\n",
       "    .dataframe tbody tr th {\n",
       "        vertical-align: top;\n",
       "    }\n",
       "\n",
       "    .dataframe thead tr th {\n",
       "        text-align: left;\n",
       "    }\n",
       "\n",
       "    .dataframe thead tr:last-of-type th {\n",
       "        text-align: right;\n",
       "    }\n",
       "</style>\n",
       "<table border=\"1\" class=\"dataframe\">\n",
       "  <thead>\n",
       "    <tr>\n",
       "      <th></th>\n",
       "      <th colspan=\"5\" halign=\"left\">View_on_sexuality</th>\n",
       "      <th colspan=\"5\" halign=\"left\">View_on_sexualisation</th>\n",
       "      <th colspan=\"5\" halign=\"left\">View_on_sexual_sub_context</th>\n",
       "    </tr>\n",
       "    <tr>\n",
       "      <th></th>\n",
       "      <th>mean</th>\n",
       "      <th>median</th>\n",
       "      <th>std</th>\n",
       "      <th>max</th>\n",
       "      <th>min</th>\n",
       "      <th>mean</th>\n",
       "      <th>median</th>\n",
       "      <th>std</th>\n",
       "      <th>max</th>\n",
       "      <th>min</th>\n",
       "      <th>mean</th>\n",
       "      <th>median</th>\n",
       "      <th>std</th>\n",
       "      <th>max</th>\n",
       "      <th>min</th>\n",
       "    </tr>\n",
       "    <tr>\n",
       "      <th>Country</th>\n",
       "      <th></th>\n",
       "      <th></th>\n",
       "      <th></th>\n",
       "      <th></th>\n",
       "      <th></th>\n",
       "      <th></th>\n",
       "      <th></th>\n",
       "      <th></th>\n",
       "      <th></th>\n",
       "      <th></th>\n",
       "      <th></th>\n",
       "      <th></th>\n",
       "      <th></th>\n",
       "      <th></th>\n",
       "      <th></th>\n",
       "    </tr>\n",
       "  </thead>\n",
       "  <tbody>\n",
       "    <tr>\n",
       "      <th>Australia and New Zealand</th>\n",
       "      <td>4.777778</td>\n",
       "      <td>5.0</td>\n",
       "      <td>1.715938</td>\n",
       "      <td>7</td>\n",
       "      <td>1</td>\n",
       "      <td>3.000000</td>\n",
       "      <td>3.0</td>\n",
       "      <td>1.500000</td>\n",
       "      <td>5</td>\n",
       "      <td>1</td>\n",
       "      <td>4.888889</td>\n",
       "      <td>5.0</td>\n",
       "      <td>1.536591</td>\n",
       "      <td>7</td>\n",
       "      <td>3</td>\n",
       "    </tr>\n",
       "    <tr>\n",
       "      <th>Brazil</th>\n",
       "      <td>4.750000</td>\n",
       "      <td>4.5</td>\n",
       "      <td>0.886405</td>\n",
       "      <td>6</td>\n",
       "      <td>4</td>\n",
       "      <td>3.125000</td>\n",
       "      <td>3.5</td>\n",
       "      <td>1.457738</td>\n",
       "      <td>5</td>\n",
       "      <td>1</td>\n",
       "      <td>4.750000</td>\n",
       "      <td>5.0</td>\n",
       "      <td>1.035098</td>\n",
       "      <td>6</td>\n",
       "      <td>3</td>\n",
       "    </tr>\n",
       "    <tr>\n",
       "      <th>Canada</th>\n",
       "      <td>5.153846</td>\n",
       "      <td>5.0</td>\n",
       "      <td>0.898717</td>\n",
       "      <td>7</td>\n",
       "      <td>4</td>\n",
       "      <td>4.153846</td>\n",
       "      <td>5.0</td>\n",
       "      <td>1.573010</td>\n",
       "      <td>6</td>\n",
       "      <td>2</td>\n",
       "      <td>4.846154</td>\n",
       "      <td>5.0</td>\n",
       "      <td>0.987096</td>\n",
       "      <td>7</td>\n",
       "      <td>3</td>\n",
       "    </tr>\n",
       "    <tr>\n",
       "      <th>France</th>\n",
       "      <td>4.750000</td>\n",
       "      <td>4.5</td>\n",
       "      <td>1.164965</td>\n",
       "      <td>6</td>\n",
       "      <td>3</td>\n",
       "      <td>3.625000</td>\n",
       "      <td>3.5</td>\n",
       "      <td>1.685018</td>\n",
       "      <td>6</td>\n",
       "      <td>1</td>\n",
       "      <td>4.625000</td>\n",
       "      <td>4.5</td>\n",
       "      <td>1.302470</td>\n",
       "      <td>6</td>\n",
       "      <td>3</td>\n",
       "    </tr>\n",
       "    <tr>\n",
       "      <th>Germany</th>\n",
       "      <td>5.200000</td>\n",
       "      <td>6.0</td>\n",
       "      <td>1.698739</td>\n",
       "      <td>7</td>\n",
       "      <td>2</td>\n",
       "      <td>3.866667</td>\n",
       "      <td>4.0</td>\n",
       "      <td>1.407463</td>\n",
       "      <td>6</td>\n",
       "      <td>1</td>\n",
       "      <td>4.933333</td>\n",
       "      <td>5.0</td>\n",
       "      <td>1.222799</td>\n",
       "      <td>6</td>\n",
       "      <td>2</td>\n",
       "    </tr>\n",
       "    <tr>\n",
       "      <th>Latvia</th>\n",
       "      <td>5.250000</td>\n",
       "      <td>5.0</td>\n",
       "      <td>1.258306</td>\n",
       "      <td>7</td>\n",
       "      <td>4</td>\n",
       "      <td>4.500000</td>\n",
       "      <td>4.0</td>\n",
       "      <td>1.000000</td>\n",
       "      <td>6</td>\n",
       "      <td>4</td>\n",
       "      <td>4.250000</td>\n",
       "      <td>4.0</td>\n",
       "      <td>1.258306</td>\n",
       "      <td>6</td>\n",
       "      <td>3</td>\n",
       "    </tr>\n",
       "    <tr>\n",
       "      <th>Mexico</th>\n",
       "      <td>4.500000</td>\n",
       "      <td>4.0</td>\n",
       "      <td>1.000000</td>\n",
       "      <td>6</td>\n",
       "      <td>4</td>\n",
       "      <td>3.500000</td>\n",
       "      <td>3.5</td>\n",
       "      <td>1.290994</td>\n",
       "      <td>5</td>\n",
       "      <td>2</td>\n",
       "      <td>4.500000</td>\n",
       "      <td>4.0</td>\n",
       "      <td>1.000000</td>\n",
       "      <td>6</td>\n",
       "      <td>4</td>\n",
       "    </tr>\n",
       "    <tr>\n",
       "      <th>Other</th>\n",
       "      <td>4.916667</td>\n",
       "      <td>5.0</td>\n",
       "      <td>1.500000</td>\n",
       "      <td>7</td>\n",
       "      <td>1</td>\n",
       "      <td>3.944444</td>\n",
       "      <td>4.0</td>\n",
       "      <td>1.452966</td>\n",
       "      <td>7</td>\n",
       "      <td>1</td>\n",
       "      <td>5.166667</td>\n",
       "      <td>5.0</td>\n",
       "      <td>1.108409</td>\n",
       "      <td>7</td>\n",
       "      <td>3</td>\n",
       "    </tr>\n",
       "    <tr>\n",
       "      <th>Poland</th>\n",
       "      <td>4.833333</td>\n",
       "      <td>5.0</td>\n",
       "      <td>1.329160</td>\n",
       "      <td>6</td>\n",
       "      <td>3</td>\n",
       "      <td>3.666667</td>\n",
       "      <td>3.5</td>\n",
       "      <td>1.861899</td>\n",
       "      <td>7</td>\n",
       "      <td>2</td>\n",
       "      <td>4.666667</td>\n",
       "      <td>4.5</td>\n",
       "      <td>1.751190</td>\n",
       "      <td>7</td>\n",
       "      <td>2</td>\n",
       "    </tr>\n",
       "    <tr>\n",
       "      <th>Russia</th>\n",
       "      <td>4.666667</td>\n",
       "      <td>4.5</td>\n",
       "      <td>0.816497</td>\n",
       "      <td>6</td>\n",
       "      <td>4</td>\n",
       "      <td>3.833333</td>\n",
       "      <td>3.5</td>\n",
       "      <td>1.722401</td>\n",
       "      <td>7</td>\n",
       "      <td>2</td>\n",
       "      <td>4.666667</td>\n",
       "      <td>4.5</td>\n",
       "      <td>0.816497</td>\n",
       "      <td>6</td>\n",
       "      <td>4</td>\n",
       "    </tr>\n",
       "    <tr>\n",
       "      <th>The Netherlands</th>\n",
       "      <td>3.666667</td>\n",
       "      <td>4.0</td>\n",
       "      <td>1.505545</td>\n",
       "      <td>6</td>\n",
       "      <td>2</td>\n",
       "      <td>3.833333</td>\n",
       "      <td>3.5</td>\n",
       "      <td>1.722401</td>\n",
       "      <td>7</td>\n",
       "      <td>2</td>\n",
       "      <td>3.833333</td>\n",
       "      <td>3.5</td>\n",
       "      <td>1.722401</td>\n",
       "      <td>7</td>\n",
       "      <td>2</td>\n",
       "    </tr>\n",
       "    <tr>\n",
       "      <th>UK</th>\n",
       "      <td>4.500000</td>\n",
       "      <td>4.0</td>\n",
       "      <td>1.000000</td>\n",
       "      <td>6</td>\n",
       "      <td>3</td>\n",
       "      <td>3.700000</td>\n",
       "      <td>4.0</td>\n",
       "      <td>1.128576</td>\n",
       "      <td>6</td>\n",
       "      <td>2</td>\n",
       "      <td>4.450000</td>\n",
       "      <td>4.0</td>\n",
       "      <td>0.998683</td>\n",
       "      <td>6</td>\n",
       "      <td>3</td>\n",
       "    </tr>\n",
       "    <tr>\n",
       "      <th>USA</th>\n",
       "      <td>4.642857</td>\n",
       "      <td>5.0</td>\n",
       "      <td>1.432299</td>\n",
       "      <td>7</td>\n",
       "      <td>1</td>\n",
       "      <td>3.562500</td>\n",
       "      <td>3.0</td>\n",
       "      <td>1.511406</td>\n",
       "      <td>7</td>\n",
       "      <td>1</td>\n",
       "      <td>4.678571</td>\n",
       "      <td>5.0</td>\n",
       "      <td>1.202207</td>\n",
       "      <td>7</td>\n",
       "      <td>1</td>\n",
       "    </tr>\n",
       "  </tbody>\n",
       "</table>\n",
       "</div>"
      ],
      "text/plain": [
       "                          View_on_sexuality                           \\\n",
       "                                       mean median       std max min   \n",
       "Country                                                                \n",
       "Australia and New Zealand          4.777778    5.0  1.715938   7   1   \n",
       "Brazil                             4.750000    4.5  0.886405   6   4   \n",
       "Canada                             5.153846    5.0  0.898717   7   4   \n",
       "France                             4.750000    4.5  1.164965   6   3   \n",
       "Germany                            5.200000    6.0  1.698739   7   2   \n",
       "Latvia                             5.250000    5.0  1.258306   7   4   \n",
       "Mexico                             4.500000    4.0  1.000000   6   4   \n",
       "Other                              4.916667    5.0  1.500000   7   1   \n",
       "Poland                             4.833333    5.0  1.329160   6   3   \n",
       "Russia                             4.666667    4.5  0.816497   6   4   \n",
       "The Netherlands                    3.666667    4.0  1.505545   6   2   \n",
       "UK                                 4.500000    4.0  1.000000   6   3   \n",
       "USA                                4.642857    5.0  1.432299   7   1   \n",
       "\n",
       "                          View_on_sexualisation                           \\\n",
       "                                           mean median       std max min   \n",
       "Country                                                                    \n",
       "Australia and New Zealand              3.000000    3.0  1.500000   5   1   \n",
       "Brazil                                 3.125000    3.5  1.457738   5   1   \n",
       "Canada                                 4.153846    5.0  1.573010   6   2   \n",
       "France                                 3.625000    3.5  1.685018   6   1   \n",
       "Germany                                3.866667    4.0  1.407463   6   1   \n",
       "Latvia                                 4.500000    4.0  1.000000   6   4   \n",
       "Mexico                                 3.500000    3.5  1.290994   5   2   \n",
       "Other                                  3.944444    4.0  1.452966   7   1   \n",
       "Poland                                 3.666667    3.5  1.861899   7   2   \n",
       "Russia                                 3.833333    3.5  1.722401   7   2   \n",
       "The Netherlands                        3.833333    3.5  1.722401   7   2   \n",
       "UK                                     3.700000    4.0  1.128576   6   2   \n",
       "USA                                    3.562500    3.0  1.511406   7   1   \n",
       "\n",
       "                          View_on_sexual_sub_context                           \n",
       "                                                mean median       std max min  \n",
       "Country                                                                        \n",
       "Australia and New Zealand                   4.888889    5.0  1.536591   7   3  \n",
       "Brazil                                      4.750000    5.0  1.035098   6   3  \n",
       "Canada                                      4.846154    5.0  0.987096   7   3  \n",
       "France                                      4.625000    4.5  1.302470   6   3  \n",
       "Germany                                     4.933333    5.0  1.222799   6   2  \n",
       "Latvia                                      4.250000    4.0  1.258306   6   3  \n",
       "Mexico                                      4.500000    4.0  1.000000   6   4  \n",
       "Other                                       5.166667    5.0  1.108409   7   3  \n",
       "Poland                                      4.666667    4.5  1.751190   7   2  \n",
       "Russia                                      4.666667    4.5  0.816497   6   4  \n",
       "The Netherlands                             3.833333    3.5  1.722401   7   2  \n",
       "UK                                          4.450000    4.0  0.998683   6   3  \n",
       "USA                                         4.678571    5.0  1.202207   7   1  "
      ]
     },
     "execution_count": 26,
     "metadata": {},
     "output_type": "execute_result"
    }
   ],
   "source": [
    "'''Groups the data by Country,\n",
    " showing mean, median, standard deviation,\n",
    " maximal and minimal values'''\n",
    "data.groupby('Country')[\n",
    "    'View_on_sexuality', 'View_on_sexualisation', 'View_on_sexual_sub_context'\n",
    "].agg(\n",
    "    ['mean','median','std','max','min']\n",
    ")"
   ]
  },
  {
   "cell_type": "code",
   "execution_count": 27,
   "metadata": {},
   "outputs": [
    {
     "data": {
      "text/plain": [
       "\"Graphs below represent the data, shown in the table above. \\nFirst two graphs create a pivot table to show mean and median value of people's views on\\nsexuality, sexual themes or sexualisation in games depnding on their mentioned Country, and display this\\ndata as a bar graph.\\nThe latter three graphs show boxplot of the same things.\""
      ]
     },
     "execution_count": 27,
     "metadata": {},
     "output_type": "execute_result"
    }
   ],
   "source": [
    "'''Graphs below represent the data, shown in the table above. \n",
    "First two graphs create a pivot table to show mean and median value of people\\'s views on\n",
    "sexuality, sexual themes or sexualisation in games depnding on their mentioned Country, and display this\n",
    "data as a bar graph.\n",
    "The latter three graphs show boxplot of the same things.'''"
   ]
  },
  {
   "cell_type": "code",
   "execution_count": 28,
   "metadata": {},
   "outputs": [
    {
     "data": {
      "text/plain": [
       "<matplotlib.legend.Legend at 0xbc0c550>"
      ]
     },
     "execution_count": 28,
     "metadata": {},
     "output_type": "execute_result"
    },
    {
     "data": {
      "image/png": "[encoded data removed]",
      "text/plain": [
       "<Figure size 432x288 with 1 Axes>"
      ]
     },
     "metadata": {},
     "output_type": "display_data"
    }
   ],
   "source": [
    "data.pivot_table(\n",
    "    values =\n",
    "    ['View_on_sexuality', 'View_on_sexualisation', 'View_on_sexual_sub_context'],\n",
    "    index = 'Country',\n",
    "    aggfunc = 'mean'\n",
    ").plot(kind = 'bar', grid = True)\n",
    "plt.legend(\n",
    "    ['View on sexual sub-context','View on sexualisation','View on sexuality'],\n",
    "    loc = 'upper right',\n",
    "    bbox_to_anchor = (1.015,1.25))"
   ]
  },
  {
   "cell_type": "code",
   "execution_count": 29,
   "metadata": {},
   "outputs": [
    {
     "data": {
      "text/plain": [
       "<matplotlib.legend.Legend at 0xb9b6ac0>"
      ]
     },
     "execution_count": 29,
     "metadata": {},
     "output_type": "execute_result"
    },
    {
     "data": {
      "image/png": "[encoded data removed]",
      "text/plain": [
       "<Figure size 432x288 with 1 Axes>"
      ]
     },
     "metadata": {},
     "output_type": "display_data"
    }
   ],
   "source": [
    "data.pivot_table(\n",
    "    values =\n",
    "    ['View_on_sexuality', 'View_on_sexualisation', 'View_on_sexual_sub_context'],\n",
    "    index = 'Country',\n",
    "    aggfunc = 'median'\n",
    ").plot(kind = 'bar', grid = True)\n",
    "plt.legend(\n",
    "    ['View on sexual sub-context','View on sexualisation','View on sexuality'],\n",
    "    loc = 'upper right',\n",
    "    bbox_to_anchor = (1.015,1.25))"
   ]
  },
  {
   "cell_type": "code",
   "execution_count": 30,
   "metadata": {},
   "outputs": [
    {
     "data": {
      "text/plain": [
       "<matplotlib.axes._subplots.AxesSubplot at 0xc109370>"
      ]
     },
     "execution_count": 30,
     "metadata": {},
     "output_type": "execute_result"
    },
    {
     "data": {
      "image/png": "[encoded data removed]",
      "text/plain": [
       "<Figure size 432x288 with 1 Axes>"
      ]
     },
     "metadata": {},
     "output_type": "display_data"
    }
   ],
   "source": [
    "sns.set()\n",
    "sns.set_context('paper', font_scale = 0.3)\n",
    "sns.boxplot(x = 'Country',y = 'View_on_sexuality',data = data)"
   ]
  },
  {
   "cell_type": "code",
   "execution_count": 31,
   "metadata": {},
   "outputs": [
    {
     "data": {
      "text/plain": [
       "<matplotlib.axes._subplots.AxesSubplot at 0xc293100>"
      ]
     },
     "execution_count": 31,
     "metadata": {},
     "output_type": "execute_result"
    },
    {
     "data": {
      "image/png": "[encoded data removed]",
      "text/plain": [
       "<Figure size 432x288 with 1 Axes>"
      ]
     },
     "metadata": {},
     "output_type": "display_data"
    }
   ],
   "source": [
    "sns.set()\n",
    "sns.set_context('paper', font_scale = 0.3)\n",
    "sns.boxplot(x = 'Country',y = 'View_on_sexualisation',data = data)"
   ]
  },
  {
   "cell_type": "code",
   "execution_count": 32,
   "metadata": {},
   "outputs": [
    {
     "data": {
      "text/plain": [
       "<matplotlib.axes._subplots.AxesSubplot at 0xd3a4880>"
      ]
     },
     "execution_count": 32,
     "metadata": {},
     "output_type": "execute_result"
    },
    {
     "data": {
      "image/png": "[encoded data removed]",
      "text/plain": [
       "<Figure size 432x288 with 1 Axes>"
      ]
     },
     "metadata": {},
     "output_type": "display_data"
    }
   ],
   "source": [
    "sns.set()\n",
    "sns.set_context('paper', font_scale = 0.3)\n",
    "sns.boxplot(x = 'Country',y = 'View_on_sexual_sub_context',data = data)"
   ]
  },
  {
   "cell_type": "markdown",
   "metadata": {},
   "source": [
    "# Grouping data by Favourite Genre"
   ]
  },
  {
   "cell_type": "code",
   "execution_count": 33,
   "metadata": {},
   "outputs": [
    {
     "data": {
      "text/html": [
       "<div>\n",
       "<style scoped>\n",
       "    .dataframe tbody tr th:only-of-type {\n",
       "        vertical-align: middle;\n",
       "    }\n",
       "\n",
       "    .dataframe tbody tr th {\n",
       "        vertical-align: top;\n",
       "    }\n",
       "\n",
       "    .dataframe thead tr th {\n",
       "        text-align: left;\n",
       "    }\n",
       "\n",
       "    .dataframe thead tr:last-of-type th {\n",
       "        text-align: right;\n",
       "    }\n",
       "</style>\n",
       "<table border=\"1\" class=\"dataframe\">\n",
       "  <thead>\n",
       "    <tr>\n",
       "      <th></th>\n",
       "      <th colspan=\"5\" halign=\"left\">View_on_sexuality</th>\n",
       "      <th colspan=\"5\" halign=\"left\">View_on_sexualisation</th>\n",
       "      <th colspan=\"5\" halign=\"left\">View_on_sexual_sub_context</th>\n",
       "    </tr>\n",
       "    <tr>\n",
       "      <th></th>\n",
       "      <th>mean</th>\n",
       "      <th>median</th>\n",
       "      <th>std</th>\n",
       "      <th>max</th>\n",
       "      <th>min</th>\n",
       "      <th>mean</th>\n",
       "      <th>median</th>\n",
       "      <th>std</th>\n",
       "      <th>max</th>\n",
       "      <th>min</th>\n",
       "      <th>mean</th>\n",
       "      <th>median</th>\n",
       "      <th>std</th>\n",
       "      <th>max</th>\n",
       "      <th>min</th>\n",
       "    </tr>\n",
       "    <tr>\n",
       "      <th>Genre</th>\n",
       "      <th></th>\n",
       "      <th></th>\n",
       "      <th></th>\n",
       "      <th></th>\n",
       "      <th></th>\n",
       "      <th></th>\n",
       "      <th></th>\n",
       "      <th></th>\n",
       "      <th></th>\n",
       "      <th></th>\n",
       "      <th></th>\n",
       "      <th></th>\n",
       "      <th></th>\n",
       "      <th></th>\n",
       "      <th></th>\n",
       "    </tr>\n",
       "  </thead>\n",
       "  <tbody>\n",
       "    <tr>\n",
       "      <th>Action</th>\n",
       "      <td>5.097561</td>\n",
       "      <td>5</td>\n",
       "      <td>1.319183</td>\n",
       "      <td>7</td>\n",
       "      <td>1</td>\n",
       "      <td>4.048780</td>\n",
       "      <td>4.0</td>\n",
       "      <td>1.395550</td>\n",
       "      <td>7</td>\n",
       "      <td>2</td>\n",
       "      <td>4.902439</td>\n",
       "      <td>5</td>\n",
       "      <td>1.135889</td>\n",
       "      <td>7</td>\n",
       "      <td>3</td>\n",
       "    </tr>\n",
       "    <tr>\n",
       "      <th>Adventure</th>\n",
       "      <td>4.785714</td>\n",
       "      <td>5</td>\n",
       "      <td>1.449320</td>\n",
       "      <td>7</td>\n",
       "      <td>2</td>\n",
       "      <td>4.214286</td>\n",
       "      <td>4.0</td>\n",
       "      <td>1.257780</td>\n",
       "      <td>7</td>\n",
       "      <td>2</td>\n",
       "      <td>4.892857</td>\n",
       "      <td>5</td>\n",
       "      <td>1.165532</td>\n",
       "      <td>7</td>\n",
       "      <td>2</td>\n",
       "    </tr>\n",
       "    <tr>\n",
       "      <th>Multiplayer RPGs</th>\n",
       "      <td>4.866667</td>\n",
       "      <td>5</td>\n",
       "      <td>1.195778</td>\n",
       "      <td>7</td>\n",
       "      <td>2</td>\n",
       "      <td>3.700000</td>\n",
       "      <td>4.0</td>\n",
       "      <td>1.441981</td>\n",
       "      <td>6</td>\n",
       "      <td>1</td>\n",
       "      <td>4.800000</td>\n",
       "      <td>5</td>\n",
       "      <td>1.242911</td>\n",
       "      <td>7</td>\n",
       "      <td>2</td>\n",
       "    </tr>\n",
       "    <tr>\n",
       "      <th>None</th>\n",
       "      <td>3.833333</td>\n",
       "      <td>4</td>\n",
       "      <td>0.983192</td>\n",
       "      <td>5</td>\n",
       "      <td>2</td>\n",
       "      <td>3.333333</td>\n",
       "      <td>3.5</td>\n",
       "      <td>1.211060</td>\n",
       "      <td>5</td>\n",
       "      <td>2</td>\n",
       "      <td>3.666667</td>\n",
       "      <td>4</td>\n",
       "      <td>0.816497</td>\n",
       "      <td>4</td>\n",
       "      <td>2</td>\n",
       "    </tr>\n",
       "    <tr>\n",
       "      <th>Simulators</th>\n",
       "      <td>4.173913</td>\n",
       "      <td>4</td>\n",
       "      <td>1.466355</td>\n",
       "      <td>7</td>\n",
       "      <td>1</td>\n",
       "      <td>3.217391</td>\n",
       "      <td>3.0</td>\n",
       "      <td>1.126399</td>\n",
       "      <td>5</td>\n",
       "      <td>1</td>\n",
       "      <td>4.782609</td>\n",
       "      <td>5</td>\n",
       "      <td>1.166055</td>\n",
       "      <td>7</td>\n",
       "      <td>2</td>\n",
       "    </tr>\n",
       "    <tr>\n",
       "      <th>Singleplayer RPGs</th>\n",
       "      <td>4.966667</td>\n",
       "      <td>5</td>\n",
       "      <td>1.425687</td>\n",
       "      <td>7</td>\n",
       "      <td>1</td>\n",
       "      <td>3.577778</td>\n",
       "      <td>3.0</td>\n",
       "      <td>1.528587</td>\n",
       "      <td>7</td>\n",
       "      <td>1</td>\n",
       "      <td>4.888889</td>\n",
       "      <td>5</td>\n",
       "      <td>1.184587</td>\n",
       "      <td>7</td>\n",
       "      <td>1</td>\n",
       "    </tr>\n",
       "    <tr>\n",
       "      <th>Strategy</th>\n",
       "      <td>4.613636</td>\n",
       "      <td>4</td>\n",
       "      <td>1.279824</td>\n",
       "      <td>7</td>\n",
       "      <td>2</td>\n",
       "      <td>3.795455</td>\n",
       "      <td>4.0</td>\n",
       "      <td>1.578630</td>\n",
       "      <td>7</td>\n",
       "      <td>1</td>\n",
       "      <td>4.409091</td>\n",
       "      <td>4</td>\n",
       "      <td>1.187497</td>\n",
       "      <td>7</td>\n",
       "      <td>2</td>\n",
       "    </tr>\n",
       "  </tbody>\n",
       "</table>\n",
       "</div>"
      ],
      "text/plain": [
       "                  View_on_sexuality                           \\\n",
       "                               mean median       std max min   \n",
       "Genre                                                          \n",
       "Action                     5.097561      5  1.319183   7   1   \n",
       "Adventure                  4.785714      5  1.449320   7   2   \n",
       "Multiplayer RPGs           4.866667      5  1.195778   7   2   \n",
       "None                       3.833333      4  0.983192   5   2   \n",
       "Simulators                 4.173913      4  1.466355   7   1   \n",
       "Singleplayer RPGs          4.966667      5  1.425687   7   1   \n",
       "Strategy                   4.613636      4  1.279824   7   2   \n",
       "\n",
       "                  View_on_sexualisation                           \\\n",
       "                                   mean median       std max min   \n",
       "Genre                                                              \n",
       "Action                         4.048780    4.0  1.395550   7   2   \n",
       "Adventure                      4.214286    4.0  1.257780   7   2   \n",
       "Multiplayer RPGs               3.700000    4.0  1.441981   6   1   \n",
       "None                           3.333333    3.5  1.211060   5   2   \n",
       "Simulators                     3.217391    3.0  1.126399   5   1   \n",
       "Singleplayer RPGs              3.577778    3.0  1.528587   7   1   \n",
       "Strategy                       3.795455    4.0  1.578630   7   1   \n",
       "\n",
       "                  View_on_sexual_sub_context                           \n",
       "                                        mean median       std max min  \n",
       "Genre                                                                  \n",
       "Action                              4.902439      5  1.135889   7   3  \n",
       "Adventure                           4.892857      5  1.165532   7   2  \n",
       "Multiplayer RPGs                    4.800000      5  1.242911   7   2  \n",
       "None                                3.666667      4  0.816497   4   2  \n",
       "Simulators                          4.782609      5  1.166055   7   2  \n",
       "Singleplayer RPGs                   4.888889      5  1.184587   7   1  \n",
       "Strategy                            4.409091      4  1.187497   7   2  "
      ]
     },
     "execution_count": 33,
     "metadata": {},
     "output_type": "execute_result"
    }
   ],
   "source": [
    "'''Groups the data by Genre from the exploded dataframe,\n",
    " showing mean, median, standard deviation,\n",
    " maximal and minimal values'''\n",
    "genres_exploded.groupby('Genre')[\n",
    "    'View_on_sexuality', 'View_on_sexualisation', 'View_on_sexual_sub_context'\n",
    "].agg(\n",
    "    ['mean','median','std','max','min']\n",
    ")"
   ]
  },
  {
   "cell_type": "code",
   "execution_count": 34,
   "metadata": {},
   "outputs": [
    {
     "data": {
      "text/plain": [
       "\"Graphs below represent the data, shown in the table above. \\nFirst two graphs create a pivot table to show mean and median value of people's views on\\nsexuality, sexual themes or sexualisation in games depnding on Genre, and display this\\ndata as a bar graph.\\nThis particular segment uses dataframe exploded by Genre.\\nThe latter three graphs show boxplot of the same things.\""
      ]
     },
     "execution_count": 34,
     "metadata": {},
     "output_type": "execute_result"
    }
   ],
   "source": [
    "'''Graphs below represent the data, shown in the table above. \n",
    "First two graphs create a pivot table to show mean and median value of people\\'s views on\n",
    "sexuality, sexual themes or sexualisation in games depnding on Genre, and display this\n",
    "data as a bar graph.\n",
    "This particular segment uses dataframe exploded by Genre.\n",
    "The latter three graphs show boxplot of the same things.'''"
   ]
  },
  {
   "cell_type": "code",
   "execution_count": 35,
   "metadata": {},
   "outputs": [
    {
     "data": {
      "text/plain": [
       "<matplotlib.legend.Legend at 0xd4def10>"
      ]
     },
     "execution_count": 35,
     "metadata": {},
     "output_type": "execute_result"
    },
    {
     "data": {
      "image/png": "[encoded data removed]",
      "text/plain": [
       "<Figure size 432x288 with 1 Axes>"
      ]
     },
     "metadata": {},
     "output_type": "display_data"
    }
   ],
   "source": [
    "genres_exploded.pivot_table(\n",
    "    values =\n",
    "    ['View_on_sexuality', 'View_on_sexualisation', 'View_on_sexual_sub_context'],\n",
    "    index = 'Genre',\n",
    "    aggfunc = 'mean'\n",
    ").plot(kind = 'bar', grid = True)\n",
    "plt.legend(\n",
    "    ['View on sexual sub-context','View on sexualisation','View on sexuality'],\n",
    "    loc = 'upper right',\n",
    "    bbox_to_anchor = (1.015,1.25))"
   ]
  },
  {
   "cell_type": "code",
   "execution_count": 36,
   "metadata": {},
   "outputs": [
    {
     "data": {
      "text/plain": [
       "<matplotlib.legend.Legend at 0xd4d7f40>"
      ]
     },
     "execution_count": 36,
     "metadata": {},
     "output_type": "execute_result"
    },
    {
     "data": {
      "image/png": "[encoded data removed]",
      "text/plain": [
       "<Figure size 432x288 with 1 Axes>"
      ]
     },
     "metadata": {},
     "output_type": "display_data"
    }
   ],
   "source": [
    "genres_exploded.pivot_table(\n",
    "    values =\n",
    "    ['View_on_sexuality', 'View_on_sexualisation', 'View_on_sexual_sub_context'],\n",
    "    index = 'Genre',\n",
    "    aggfunc = 'mean'\n",
    ").plot(kind = 'bar', grid = True)\n",
    "plt.legend(\n",
    "    ['View on sexual sub-context','View on sexualisation','View on sexuality'],\n",
    "    loc = 'upper right',\n",
    "    bbox_to_anchor = (1.015,1.25))"
   ]
  },
  {
   "cell_type": "code",
   "execution_count": 37,
   "metadata": {},
   "outputs": [
    {
     "data": {
      "text/plain": [
       "<matplotlib.axes._subplots.AxesSubplot at 0xd5e1250>"
      ]
     },
     "execution_count": 37,
     "metadata": {},
     "output_type": "execute_result"
    },
    {
     "data": {
      "image/png": "[encoded data removed]",
      "text/plain": [
       "<Figure size 432x288 with 1 Axes>"
      ]
     },
     "metadata": {},
     "output_type": "display_data"
    }
   ],
   "source": [
    "sns.set()\n",
    "sns.set_context('paper', font_scale = 0.7)\n",
    "sns.boxplot(x = 'Genre',y = 'View_on_sexuality',data = genres_exploded)"
   ]
  },
  {
   "cell_type": "code",
   "execution_count": 38,
   "metadata": {},
   "outputs": [
    {
     "data": {
      "text/plain": [
       "<matplotlib.axes._subplots.AxesSubplot at 0xd603fd0>"
      ]
     },
     "execution_count": 38,
     "metadata": {},
     "output_type": "execute_result"
    },
    {
     "data": {
      "image/png": "[encoded data removed]",
      "text/plain": [
       "<Figure size 432x288 with 1 Axes>"
      ]
     },
     "metadata": {},
     "output_type": "display_data"
    }
   ],
   "source": [
    "sns.set()\n",
    "sns.set_context('paper', font_scale = 0.7)\n",
    "sns.boxplot(x = 'Genre',y = 'View_on_sexualisation',data = genres_exploded)"
   ]
  },
  {
   "cell_type": "code",
   "execution_count": 39,
   "metadata": {},
   "outputs": [
    {
     "data": {
      "text/plain": [
       "<matplotlib.axes._subplots.AxesSubplot at 0xd4b7490>"
      ]
     },
     "execution_count": 39,
     "metadata": {},
     "output_type": "execute_result"
    },
    {
     "data": {
      "image/png": "[encoded data removed]",
      "text/plain": [
       "<Figure size 432x288 with 1 Axes>"
      ]
     },
     "metadata": {},
     "output_type": "display_data"
    }
   ],
   "source": [
    "sns.set()\n",
    "sns.set_context('paper', font_scale = 0.7)\n",
    "sns.boxplot(x = 'Genre',y = 'View_on_sexual_sub_context',data = genres_exploded)"
   ]
  },
  {
   "cell_type": "markdown",
   "metadata": {},
   "source": [
    "# Grouping data by Sexual Orientation"
   ]
  },
  {
   "cell_type": "code",
   "execution_count": 40,
   "metadata": {},
   "outputs": [
    {
     "data": {
      "text/html": [
       "<div>\n",
       "<style scoped>\n",
       "    .dataframe tbody tr th:only-of-type {\n",
       "        vertical-align: middle;\n",
       "    }\n",
       "\n",
       "    .dataframe tbody tr th {\n",
       "        vertical-align: top;\n",
       "    }\n",
       "\n",
       "    .dataframe thead tr th {\n",
       "        text-align: left;\n",
       "    }\n",
       "\n",
       "    .dataframe thead tr:last-of-type th {\n",
       "        text-align: right;\n",
       "    }\n",
       "</style>\n",
       "<table border=\"1\" class=\"dataframe\">\n",
       "  <thead>\n",
       "    <tr>\n",
       "      <th></th>\n",
       "      <th colspan=\"5\" halign=\"left\">View_on_sexuality</th>\n",
       "      <th colspan=\"5\" halign=\"left\">View_on_sexualisation</th>\n",
       "      <th colspan=\"5\" halign=\"left\">View_on_sexual_sub_context</th>\n",
       "    </tr>\n",
       "    <tr>\n",
       "      <th></th>\n",
       "      <th>mean</th>\n",
       "      <th>median</th>\n",
       "      <th>std</th>\n",
       "      <th>max</th>\n",
       "      <th>min</th>\n",
       "      <th>mean</th>\n",
       "      <th>median</th>\n",
       "      <th>std</th>\n",
       "      <th>max</th>\n",
       "      <th>min</th>\n",
       "      <th>mean</th>\n",
       "      <th>median</th>\n",
       "      <th>std</th>\n",
       "      <th>max</th>\n",
       "      <th>min</th>\n",
       "    </tr>\n",
       "    <tr>\n",
       "      <th>Sexual_orientation</th>\n",
       "      <th></th>\n",
       "      <th></th>\n",
       "      <th></th>\n",
       "      <th></th>\n",
       "      <th></th>\n",
       "      <th></th>\n",
       "      <th></th>\n",
       "      <th></th>\n",
       "      <th></th>\n",
       "      <th></th>\n",
       "      <th></th>\n",
       "      <th></th>\n",
       "      <th></th>\n",
       "      <th></th>\n",
       "      <th></th>\n",
       "    </tr>\n",
       "  </thead>\n",
       "  <tbody>\n",
       "    <tr>\n",
       "      <th>Asexual</th>\n",
       "      <td>3.285714</td>\n",
       "      <td>4</td>\n",
       "      <td>0.913874</td>\n",
       "      <td>4</td>\n",
       "      <td>2</td>\n",
       "      <td>2.357143</td>\n",
       "      <td>2</td>\n",
       "      <td>0.928783</td>\n",
       "      <td>4</td>\n",
       "      <td>1</td>\n",
       "      <td>3.571429</td>\n",
       "      <td>4</td>\n",
       "      <td>1.222500</td>\n",
       "      <td>6</td>\n",
       "      <td>1</td>\n",
       "    </tr>\n",
       "    <tr>\n",
       "      <th>Bisexual</th>\n",
       "      <td>4.530612</td>\n",
       "      <td>4</td>\n",
       "      <td>1.459196</td>\n",
       "      <td>7</td>\n",
       "      <td>2</td>\n",
       "      <td>3.183673</td>\n",
       "      <td>3</td>\n",
       "      <td>1.453064</td>\n",
       "      <td>6</td>\n",
       "      <td>1</td>\n",
       "      <td>4.816327</td>\n",
       "      <td>5</td>\n",
       "      <td>1.130514</td>\n",
       "      <td>7</td>\n",
       "      <td>2</td>\n",
       "    </tr>\n",
       "    <tr>\n",
       "      <th>Heterosexual</th>\n",
       "      <td>4.902597</td>\n",
       "      <td>5</td>\n",
       "      <td>1.332203</td>\n",
       "      <td>7</td>\n",
       "      <td>1</td>\n",
       "      <td>3.928571</td>\n",
       "      <td>4</td>\n",
       "      <td>1.446687</td>\n",
       "      <td>7</td>\n",
       "      <td>1</td>\n",
       "      <td>4.805195</td>\n",
       "      <td>5</td>\n",
       "      <td>1.183094</td>\n",
       "      <td>7</td>\n",
       "      <td>1</td>\n",
       "    </tr>\n",
       "    <tr>\n",
       "      <th>Homosexual</th>\n",
       "      <td>4.529412</td>\n",
       "      <td>5</td>\n",
       "      <td>0.874475</td>\n",
       "      <td>6</td>\n",
       "      <td>3</td>\n",
       "      <td>3.058824</td>\n",
       "      <td>3</td>\n",
       "      <td>0.826936</td>\n",
       "      <td>4</td>\n",
       "      <td>1</td>\n",
       "      <td>4.470588</td>\n",
       "      <td>4</td>\n",
       "      <td>0.874475</td>\n",
       "      <td>6</td>\n",
       "      <td>3</td>\n",
       "    </tr>\n",
       "    <tr>\n",
       "      <th>Other</th>\n",
       "      <td>5.307692</td>\n",
       "      <td>5</td>\n",
       "      <td>1.436698</td>\n",
       "      <td>7</td>\n",
       "      <td>3</td>\n",
       "      <td>4.769231</td>\n",
       "      <td>5</td>\n",
       "      <td>1.363442</td>\n",
       "      <td>7</td>\n",
       "      <td>2</td>\n",
       "      <td>5.153846</td>\n",
       "      <td>5</td>\n",
       "      <td>1.281025</td>\n",
       "      <td>7</td>\n",
       "      <td>3</td>\n",
       "    </tr>\n",
       "  </tbody>\n",
       "</table>\n",
       "</div>"
      ],
      "text/plain": [
       "                   View_on_sexuality                           \\\n",
       "                                mean median       std max min   \n",
       "Sexual_orientation                                              \n",
       "Asexual                     3.285714      4  0.913874   4   2   \n",
       "Bisexual                    4.530612      4  1.459196   7   2   \n",
       "Heterosexual                4.902597      5  1.332203   7   1   \n",
       "Homosexual                  4.529412      5  0.874475   6   3   \n",
       "Other                       5.307692      5  1.436698   7   3   \n",
       "\n",
       "                   View_on_sexualisation                           \\\n",
       "                                    mean median       std max min   \n",
       "Sexual_orientation                                                  \n",
       "Asexual                         2.357143      2  0.928783   4   1   \n",
       "Bisexual                        3.183673      3  1.453064   6   1   \n",
       "Heterosexual                    3.928571      4  1.446687   7   1   \n",
       "Homosexual                      3.058824      3  0.826936   4   1   \n",
       "Other                           4.769231      5  1.363442   7   2   \n",
       "\n",
       "                   View_on_sexual_sub_context                           \n",
       "                                         mean median       std max min  \n",
       "Sexual_orientation                                                      \n",
       "Asexual                              3.571429      4  1.222500   6   1  \n",
       "Bisexual                             4.816327      5  1.130514   7   2  \n",
       "Heterosexual                         4.805195      5  1.183094   7   1  \n",
       "Homosexual                           4.470588      4  0.874475   6   3  \n",
       "Other                                5.153846      5  1.281025   7   3  "
      ]
     },
     "execution_count": 40,
     "metadata": {},
     "output_type": "execute_result"
    }
   ],
   "source": [
    "'''Groups the data by Sexual orientation,\n",
    " showing mean, median, standard deviation,\n",
    " maximal and minimal values'''\n",
    "data.groupby('Sexual_orientation')[\n",
    "    'View_on_sexuality', 'View_on_sexualisation', 'View_on_sexual_sub_context'\n",
    "].agg(\n",
    "    ['mean','median','std','max','min']\n",
    ")"
   ]
  },
  {
   "cell_type": "code",
   "execution_count": 41,
   "metadata": {},
   "outputs": [
    {
     "data": {
      "text/plain": [
       "\"Graphs below represent the data, shown in the table above. \\nFirst two graphs create a pivot table to show mean and median value of people's views on\\nsexuality, sexual themes or sexualisation in games depnding on Genre, and display this\\ndata as a bar graph.\\nThe latter three graphs show boxplot of the same things.\""
      ]
     },
     "execution_count": 41,
     "metadata": {},
     "output_type": "execute_result"
    }
   ],
   "source": [
    "'''Graphs below represent the data, shown in the table above. \n",
    "First two graphs create a pivot table to show mean and median value of people\\'s views on\n",
    "sexuality, sexual themes or sexualisation in games depnding on Genre, and display this\n",
    "data as a bar graph.\n",
    "The latter three graphs show boxplot of the same things.'''"
   ]
  },
  {
   "cell_type": "code",
   "execution_count": 42,
   "metadata": {},
   "outputs": [
    {
     "data": {
      "text/plain": [
       "<matplotlib.legend.Legend at 0xd84c5b0>"
      ]
     },
     "execution_count": 42,
     "metadata": {},
     "output_type": "execute_result"
    },
    {
     "data": {
      "image/png": "[encoded data removed]",
      "text/plain": [
       "<Figure size 432x288 with 1 Axes>"
      ]
     },
     "metadata": {},
     "output_type": "display_data"
    }
   ],
   "source": [
    "data.pivot_table(values =\n",
    "                 ['View_on_sexuality', 'View_on_sexualisation', 'View_on_sexual_sub_context'],\n",
    "                 index = 'Sexual_orientation',\n",
    "                 aggfunc = 'mean'\n",
    "                ).plot(kind = 'bar', grid = True)\n",
    "plt.legend(\n",
    "    ['View on sexual sub-context','View on sexualisation','View on sexuality'],\n",
    "    loc = 'upper right',\n",
    "    bbox_to_anchor = (1.015,1.25))"
   ]
  },
  {
   "cell_type": "code",
   "execution_count": 43,
   "metadata": {},
   "outputs": [
    {
     "data": {
      "text/plain": [
       "<matplotlib.legend.Legend at 0xd89fa60>"
      ]
     },
     "execution_count": 43,
     "metadata": {},
     "output_type": "execute_result"
    },
    {
     "data": {
      "image/png": "[encoded data removed]",
      "text/plain": [
       "<Figure size 432x288 with 1 Axes>"
      ]
     },
     "metadata": {},
     "output_type": "display_data"
    }
   ],
   "source": [
    "data.pivot_table(values =\n",
    "                 ['View_on_sexuality', 'View_on_sexualisation', 'View_on_sexual_sub_context'],\n",
    "                 index = 'Sexual_orientation',\n",
    "                 aggfunc = 'median'\n",
    "                ).plot(kind = 'bar', grid = True)\n",
    "plt.legend(\n",
    "    ['View on sexual sub-context','View on sexualisation','View on sexuality'],\n",
    "    loc = 'upper right',\n",
    "    bbox_to_anchor = (1.015,1.25))"
   ]
  },
  {
   "cell_type": "code",
   "execution_count": 44,
   "metadata": {},
   "outputs": [
    {
     "data": {
      "text/plain": [
       "<matplotlib.axes._subplots.AxesSubplot at 0xd916a90>"
      ]
     },
     "execution_count": 44,
     "metadata": {},
     "output_type": "execute_result"
    },
    {
     "data": {
      "image/png": "[encoded data removed]",
      "text/plain": [
       "<Figure size 432x288 with 1 Axes>"
      ]
     },
     "metadata": {},
     "output_type": "display_data"
    }
   ],
   "source": [
    "sns.set()\n",
    "sns.set_context('notebook', font_scale = 1)\n",
    "sns.boxplot(x = 'Sexual_orientation',y = 'View_on_sexuality',data = data)"
   ]
  },
  {
   "cell_type": "code",
   "execution_count": 45,
   "metadata": {},
   "outputs": [
    {
     "data": {
      "text/plain": [
       "<matplotlib.axes._subplots.AxesSubplot at 0xd9243d0>"
      ]
     },
     "execution_count": 45,
     "metadata": {},
     "output_type": "execute_result"
    },
    {
     "data": {
      "image/png": "[encoded data removed]",
      "text/plain": [
       "<Figure size 432x288 with 1 Axes>"
      ]
     },
     "metadata": {},
     "output_type": "display_data"
    }
   ],
   "source": [
    "sns.set()\n",
    "sns.set_context('notebook', font_scale = 1)\n",
    "sns.boxplot(x = 'Sexual_orientation',y = 'View_on_sexualisation',data = data)"
   ]
  },
  {
   "cell_type": "code",
   "execution_count": 46,
   "metadata": {},
   "outputs": [
    {
     "data": {
      "text/plain": [
       "<matplotlib.axes._subplots.AxesSubplot at 0xc27fca0>"
      ]
     },
     "execution_count": 46,
     "metadata": {},
     "output_type": "execute_result"
    },
    {
     "data": {
      "image/png": "[encoded data removed]",
      "text/plain": [
       "<Figure size 432x288 with 1 Axes>"
      ]
     },
     "metadata": {},
     "output_type": "display_data"
    }
   ],
   "source": [
    "sns.set()\n",
    "sns.set_context('notebook', font_scale = 1)\n",
    "sns.boxplot(x = 'Sexual_orientation',y = 'View_on_sexual_sub_context',data = data)"
   ]
  }
 ],
 "metadata": {
  "kernelspec": {
   "display_name": "Python 3",
   "language": "python",
   "name": "python3"
  },
  "language_info": {
   "codemirror_mode": {
    "name": "ipython",
    "version": 3
   },
   "file_extension": ".py",
   "mimetype": "text/x-python",
   "name": "python",
   "nbconvert_exporter": "python",
   "pygments_lexer": "ipython3",
   "version": "3.8.3"
  }
 },
 "nbformat": 4,
 "nbformat_minor": 4
}
